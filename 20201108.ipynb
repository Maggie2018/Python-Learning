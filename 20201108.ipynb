{
  "nbformat": 4,
  "nbformat_minor": 0,
  "metadata": {
    "colab": {
      "name": "20201108.ipynb",
      "provenance": [],
      "collapsed_sections": [],
      "authorship_tag": "ABX9TyMWcDuVQtY8tBDvdoSb36D6",
      "include_colab_link": true
    },
    "kernelspec": {
      "name": "python3",
      "display_name": "Python 3"
    }
  },
  "cells": [
    {
      "cell_type": "markdown",
      "metadata": {
        "id": "view-in-github",
        "colab_type": "text"
      },
      "source": [
        "<a href=\"https://colab.research.google.com/github/Maggie2018/Python-Learning/blob/master/20201108.ipynb\" target=\"_parent\"><img src=\"https://colab.research.google.com/assets/colab-badge.svg\" alt=\"Open In Colab\"/></a>"
      ]
    },
    {
      "cell_type": "code",
      "metadata": {
        "id": "IjR8E7NWHWWn",
        "outputId": "2629d94b-0863-4a08-d0a3-5118fae65761",
        "colab": {
          "base_uri": "https://localhost:8080/"
        }
      },
      "source": [
        "print('Hello world!')"
      ],
      "execution_count": 1,
      "outputs": [
        {
          "output_type": "stream",
          "text": [
            "Hello world!\n"
          ],
          "name": "stdout"
        }
      ]
    },
    {
      "cell_type": "code",
      "metadata": {
        "id": "N0nZifo_H1sF",
        "outputId": "86baf9ac-2b78-40f2-d562-aee137043717",
        "colab": {
          "base_uri": "https://localhost:8080/"
        }
      },
      "source": [
        "print('1234')"
      ],
      "execution_count": 2,
      "outputs": [
        {
          "output_type": "stream",
          "text": [
            "1234\n"
          ],
          "name": "stdout"
        }
      ]
    },
    {
      "cell_type": "code",
      "metadata": {
        "id": "3a0te7cnIEdL",
        "outputId": "67678da2-5cb5-4b80-db11-c846fb49d515",
        "colab": {
          "base_uri": "https://localhost:8080/"
        }
      },
      "source": [
        "help(abs)"
      ],
      "execution_count": 3,
      "outputs": [
        {
          "output_type": "stream",
          "text": [
            "Help on built-in function abs in module builtins:\n",
            "\n",
            "abs(x, /)\n",
            "    Return the absolute value of the argument.\n",
            "\n"
          ],
          "name": "stdout"
        }
      ]
    },
    {
      "cell_type": "code",
      "metadata": {
        "id": "uVwGHPyhH445",
        "outputId": "0bef9156-3c31-48cd-b315-cd4867477ee9",
        "colab": {
          "base_uri": "https://localhost:8080/",
          "height": 164
        }
      },
      "source": [
        "abs(1, 2)"
      ],
      "execution_count": 1,
      "outputs": [
        {
          "output_type": "error",
          "ename": "TypeError",
          "evalue": "ignored",
          "traceback": [
            "\u001b[0;31m---------------------------------------------------------------------------\u001b[0m",
            "\u001b[0;31mTypeError\u001b[0m                                 Traceback (most recent call last)",
            "\u001b[0;32m<ipython-input-1-6c188a838f2b>\u001b[0m in \u001b[0;36m<module>\u001b[0;34m()\u001b[0m\n\u001b[0;32m----> 1\u001b[0;31m \u001b[0mabs\u001b[0m\u001b[0;34m(\u001b[0m\u001b[0;36m1\u001b[0m\u001b[0;34m,\u001b[0m \u001b[0;36m2\u001b[0m\u001b[0;34m)\u001b[0m\u001b[0;34m\u001b[0m\u001b[0;34m\u001b[0m\u001b[0m\n\u001b[0m",
            "\u001b[0;31mTypeError\u001b[0m: abs() takes exactly one argument (2 given)"
          ]
        }
      ]
    },
    {
      "cell_type": "code",
      "metadata": {
        "id": "b02qIphShJnX",
        "outputId": "bba313bd-f637-43fc-df5f-2fb5f122215f",
        "colab": {
          "base_uri": "https://localhost:8080/",
          "height": 164
        }
      },
      "source": [
        "abs('a')"
      ],
      "execution_count": 2,
      "outputs": [
        {
          "output_type": "error",
          "ename": "TypeError",
          "evalue": "ignored",
          "traceback": [
            "\u001b[0;31m---------------------------------------------------------------------------\u001b[0m",
            "\u001b[0;31mTypeError\u001b[0m                                 Traceback (most recent call last)",
            "\u001b[0;32m<ipython-input-2-f2001f88707b>\u001b[0m in \u001b[0;36m<module>\u001b[0;34m()\u001b[0m\n\u001b[0;32m----> 1\u001b[0;31m \u001b[0mabs\u001b[0m\u001b[0;34m(\u001b[0m\u001b[0;34m'a'\u001b[0m\u001b[0;34m)\u001b[0m\u001b[0;34m\u001b[0m\u001b[0;34m\u001b[0m\u001b[0m\n\u001b[0m",
            "\u001b[0;31mTypeError\u001b[0m: bad operand type for abs(): 'str'"
          ]
        }
      ]
    },
    {
      "cell_type": "code",
      "metadata": {
        "id": "0dXTYr6JhZfJ",
        "outputId": "6603298f-ed04-441d-cd84-971a8419e435",
        "colab": {
          "base_uri": "https://localhost:8080/"
        }
      },
      "source": [
        "max(2, 3, 4, 6, 7, 1, 0, -1, 100, 222)"
      ],
      "execution_count": 3,
      "outputs": [
        {
          "output_type": "execute_result",
          "data": {
            "text/plain": [
              "222"
            ]
          },
          "metadata": {
            "tags": []
          },
          "execution_count": 3
        }
      ]
    },
    {
      "cell_type": "code",
      "metadata": {
        "id": "igSUrKOR_UQJ",
        "outputId": "8c733efd-e1e6-4bd8-96ee-a9943aa9b1ea",
        "colab": {
          "base_uri": "https://localhost:8080/"
        }
      },
      "source": [
        "def my_abs(x):\n",
        "  if not isinstance(x, (int, float)):\n",
        "    raise TypeError('bad operand type')\n",
        "  if x >= 0:\n",
        "    return x\n",
        "  else:\n",
        "    return -x\n",
        "\n",
        "print(my_abs(-1024))"
      ],
      "execution_count": 6,
      "outputs": [
        {
          "output_type": "stream",
          "text": [
            "1024\n"
          ],
          "name": "stdout"
        }
      ]
    },
    {
      "cell_type": "code",
      "metadata": {
        "id": "f6GZ_4lU_r_w",
        "outputId": "b11b58f7-3a35-46e0-c659-b38f572fd63d",
        "colab": {
          "base_uri": "https://localhost:8080/",
          "height": 283
        }
      },
      "source": [
        "my_abs('A')"
      ],
      "execution_count": 7,
      "outputs": [
        {
          "output_type": "error",
          "ename": "TypeError",
          "evalue": "ignored",
          "traceback": [
            "\u001b[0;31m---------------------------------------------------------------------------\u001b[0m",
            "\u001b[0;31mTypeError\u001b[0m                                 Traceback (most recent call last)",
            "\u001b[0;32m<ipython-input-7-3a4b4137ec2c>\u001b[0m in \u001b[0;36m<module>\u001b[0;34m()\u001b[0m\n\u001b[0;32m----> 1\u001b[0;31m \u001b[0mmy_abs\u001b[0m\u001b[0;34m(\u001b[0m\u001b[0;34m'A'\u001b[0m\u001b[0;34m)\u001b[0m\u001b[0;34m\u001b[0m\u001b[0;34m\u001b[0m\u001b[0m\n\u001b[0m",
            "\u001b[0;32m<ipython-input-6-40244cf99039>\u001b[0m in \u001b[0;36mmy_abs\u001b[0;34m(x)\u001b[0m\n\u001b[1;32m      1\u001b[0m \u001b[0;32mdef\u001b[0m \u001b[0mmy_abs\u001b[0m\u001b[0;34m(\u001b[0m\u001b[0mx\u001b[0m\u001b[0;34m)\u001b[0m\u001b[0;34m:\u001b[0m\u001b[0;34m\u001b[0m\u001b[0;34m\u001b[0m\u001b[0m\n\u001b[1;32m      2\u001b[0m   \u001b[0;32mif\u001b[0m \u001b[0;32mnot\u001b[0m \u001b[0misinstance\u001b[0m\u001b[0;34m(\u001b[0m\u001b[0mx\u001b[0m\u001b[0;34m,\u001b[0m \u001b[0;34m(\u001b[0m\u001b[0mint\u001b[0m\u001b[0;34m,\u001b[0m \u001b[0mfloat\u001b[0m\u001b[0;34m)\u001b[0m\u001b[0;34m)\u001b[0m\u001b[0;34m:\u001b[0m\u001b[0;34m\u001b[0m\u001b[0;34m\u001b[0m\u001b[0m\n\u001b[0;32m----> 3\u001b[0;31m     \u001b[0;32mraise\u001b[0m \u001b[0mTypeError\u001b[0m\u001b[0;34m(\u001b[0m\u001b[0;34m'bad operand type'\u001b[0m\u001b[0;34m)\u001b[0m\u001b[0;34m\u001b[0m\u001b[0;34m\u001b[0m\u001b[0m\n\u001b[0m\u001b[1;32m      4\u001b[0m   \u001b[0;32mif\u001b[0m \u001b[0mx\u001b[0m \u001b[0;34m>=\u001b[0m \u001b[0;36m0\u001b[0m\u001b[0;34m:\u001b[0m\u001b[0;34m\u001b[0m\u001b[0;34m\u001b[0m\u001b[0m\n\u001b[1;32m      5\u001b[0m     \u001b[0;32mreturn\u001b[0m \u001b[0mx\u001b[0m\u001b[0;34m\u001b[0m\u001b[0;34m\u001b[0m\u001b[0m\n",
            "\u001b[0;31mTypeError\u001b[0m: bad operand type"
          ]
        }
      ]
    },
    {
      "cell_type": "code",
      "metadata": {
        "id": "z30LcWR_CjIv",
        "outputId": "2971072e-f9c7-4c37-dd0d-2a74d0b2d4c2",
        "colab": {
          "base_uri": "https://localhost:8080/",
          "height": 164
        }
      },
      "source": [
        "abs('a')"
      ],
      "execution_count": 5,
      "outputs": [
        {
          "output_type": "error",
          "ename": "TypeError",
          "evalue": "ignored",
          "traceback": [
            "\u001b[0;31m---------------------------------------------------------------------------\u001b[0m",
            "\u001b[0;31mTypeError\u001b[0m                                 Traceback (most recent call last)",
            "\u001b[0;32m<ipython-input-5-f2001f88707b>\u001b[0m in \u001b[0;36m<module>\u001b[0;34m()\u001b[0m\n\u001b[0;32m----> 1\u001b[0;31m \u001b[0mabs\u001b[0m\u001b[0;34m(\u001b[0m\u001b[0;34m'a'\u001b[0m\u001b[0;34m)\u001b[0m\u001b[0;34m\u001b[0m\u001b[0;34m\u001b[0m\u001b[0m\n\u001b[0m",
            "\u001b[0;31mTypeError\u001b[0m: bad operand type for abs(): 'str'"
          ]
        }
      ]
    },
    {
      "cell_type": "code",
      "metadata": {
        "id": "ZpFU6AZXC27r",
        "outputId": "45899f75-5734-4cf6-e8ec-ee1f34de3e8e",
        "colab": {
          "base_uri": "https://localhost:8080/"
        }
      },
      "source": [
        "import math\n",
        "def move(x, y, step, angle=0):\n",
        "  nx = x + step * math.cos(angle)\n",
        "  ny = y - step * math.sin(angle)\n",
        "  return nx, ny\n",
        "\n",
        "x, y = move(100, 100, 60, math.pi / 6)\n",
        "print(x, y)\n",
        "\n",
        "r = move(100, 100, 60, math.pi / 6)\n",
        "print(r)\n"
      ],
      "execution_count": 9,
      "outputs": [
        {
          "output_type": "stream",
          "text": [
            "151.96152422706632 70.0\n",
            "(151.96152422706632, 70.0)\n"
          ],
          "name": "stdout"
        }
      ]
    },
    {
      "cell_type": "code",
      "metadata": {
        "id": "txGyQ-KGEUrS",
        "outputId": "28f65fd2-bb78-4d14-e282-2e7fbb1fa9f4",
        "colab": {
          "base_uri": "https://localhost:8080/"
        }
      },
      "source": [
        "# 请定义一个函数quadratic(a, b, c)，接收3个参数，返回一元二次方程 ax^2+bx+c=0 的两个解。\n",
        "import math\n",
        "\n",
        "def quadratic(a, b, c):\n",
        "  for i in [a, b, c]:\n",
        "    if not isinstance(i, (int, float)):\n",
        "      raise TypeError('bad operand type')\n",
        "  if a == 0:\n",
        "    print('你得到的方程式为：', b, 'x + ', c, ' = 0')\n",
        "    print('你所输入的参数不能构成一元二次方程哦！')\n",
        "  elif b * b - 4 * a * c < 0:\n",
        "    print('你得到的方程式为：', a,'x^2 + ', b, 'x + ', c, ' = 0')\n",
        "    print('很遗憾，你所输入的一元二次方程无解！') \n",
        "  else:\n",
        "    print('你得到的方程式为：', a,'x^2 + ', b, 'x + ', c, ' = 0')\n",
        "    x1 = (-b + math.sqrt(b*b-4*a*c) ) / (2*a)\n",
        "    x2 = (-b - math.sqrt(b*b-4*a*c) ) / (2*a)\n",
        "    print('x1 = ', x1)\n",
        "    print('x2 = ', x2)\n",
        "    \n",
        "\n",
        "quadratic(2, 3, 4)\n",
        "quadratic(4, 2, 1)\n",
        "quadratic(1, 2, 1)\n",
        "quadratic(1, 9, 3)\n",
        "#quadratic(4, 13, 1)"
      ],
      "execution_count": 31,
      "outputs": [
        {
          "output_type": "stream",
          "text": [
            "你得到的方程式为： 2 x^2 +  3 x +  4  = 0\n",
            "很遗憾，你所输入的一元二次方程无解！\n",
            "你得到的方程式为： 4 x^2 +  2 x +  1  = 0\n",
            "很遗憾，你所输入的一元二次方程无解！\n",
            "你得到的方程式为： 1 x^2 +  2 x +  1  = 0\n",
            "x1 =  -1.0\n",
            "x2 =  -1.0\n",
            "你得到的方程式为： 1 x^2 +  9 x +  3  = 0\n",
            "x1 =  -0.34668806854096257\n",
            "x2 =  -8.653311931459037\n"
          ],
          "name": "stdout"
        }
      ]
    }
  ]
}